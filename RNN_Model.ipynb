{
 "cells": [
  {
   "cell_type": "code",
   "execution_count": 2,
   "id": "UpeR5y7yq1_c",
   "metadata": {
    "colab": {
     "base_uri": "https://localhost:8080/"
    },
    "id": "UpeR5y7yq1_c",
    "outputId": "7f0dd50a-8a90-4f69-a2da-c3a716dd99b6"
   },
   "outputs": [
    {
     "name": "stdout",
     "output_type": "stream",
     "text": [
      "Collecting yfinance\n",
      "  Downloading https://files.pythonhosted.org/packages/58/2d/0c91d633409cd1ac6e1f97ce30d67948748eb60999bed51c8daee83e2866/yfinance-0.1.62.tar.gz\n",
      "Requirement already satisfied: pandas>=0.24 in /usr/local/lib/python3.7/dist-packages (from yfinance) (1.1.5)\n",
      "Requirement already satisfied: numpy>=1.15 in /usr/local/lib/python3.7/dist-packages (from yfinance) (1.19.5)\n",
      "Requirement already satisfied: requests>=2.20 in /usr/local/lib/python3.7/dist-packages (from yfinance) (2.23.0)\n",
      "Requirement already satisfied: multitasking>=0.0.7 in /usr/local/lib/python3.7/dist-packages (from yfinance) (0.0.9)\n",
      "Collecting lxml>=4.5.1\n",
      "\u001b[?25l  Downloading https://files.pythonhosted.org/packages/30/c0/d0526314971fc661b083ab135747dc68446a3022686da8c16d25fcf6ef07/lxml-4.6.3-cp37-cp37m-manylinux2014_x86_64.whl (6.3MB)\n",
      "\u001b[K     |████████████████████████████████| 6.3MB 10.7MB/s \n",
      "\u001b[?25hRequirement already satisfied: pytz>=2017.2 in /usr/local/lib/python3.7/dist-packages (from pandas>=0.24->yfinance) (2018.9)\n",
      "Requirement already satisfied: python-dateutil>=2.7.3 in /usr/local/lib/python3.7/dist-packages (from pandas>=0.24->yfinance) (2.8.1)\n",
      "Requirement already satisfied: urllib3!=1.25.0,!=1.25.1,<1.26,>=1.21.1 in /usr/local/lib/python3.7/dist-packages (from requests>=2.20->yfinance) (1.24.3)\n",
      "Requirement already satisfied: certifi>=2017.4.17 in /usr/local/lib/python3.7/dist-packages (from requests>=2.20->yfinance) (2021.5.30)\n",
      "Requirement already satisfied: idna<3,>=2.5 in /usr/local/lib/python3.7/dist-packages (from requests>=2.20->yfinance) (2.10)\n",
      "Requirement already satisfied: chardet<4,>=3.0.2 in /usr/local/lib/python3.7/dist-packages (from requests>=2.20->yfinance) (3.0.4)\n",
      "Requirement already satisfied: six>=1.5 in /usr/local/lib/python3.7/dist-packages (from python-dateutil>=2.7.3->pandas>=0.24->yfinance) (1.15.0)\n",
      "Building wheels for collected packages: yfinance\n",
      "  Building wheel for yfinance (setup.py) ... \u001b[?25l\u001b[?25hdone\n",
      "  Created wheel for yfinance: filename=yfinance-0.1.62-py2.py3-none-any.whl size=23867 sha256=e9546ed235fb9fcbc7b8780cf1a2b47c0b556d80b8534efdfb158ddfc3bbc30d\n",
      "  Stored in directory: /root/.cache/pip/wheels/38/5c/4a/7266ab5120deea4efa7a6dd8f6f41e913b77500ec3397c9f01\n",
      "Successfully built yfinance\n",
      "Installing collected packages: lxml, yfinance\n",
      "  Found existing installation: lxml 4.2.6\n",
      "    Uninstalling lxml-4.2.6:\n",
      "      Successfully uninstalled lxml-4.2.6\n",
      "Successfully installed lxml-4.6.3 yfinance-0.1.62\n"
     ]
    }
   ],
   "source": [
    "!pip install yfinance"
   ]
  },
  {
   "cell_type": "code",
   "execution_count": 1,
   "id": "8cbc6283-2514-4f18-b07b-967f07e45cf4",
   "metadata": {
    "id": "8cbc6283-2514-4f18-b07b-967f07e45cf4"
   },
   "outputs": [],
   "source": [
    "import numpy as np\n",
    "import matplotlib.pyplot as plt\n",
    "import pandas as pd\n",
    "import datetime as dt\n",
    "from sklearn.preprocessing import MinMaxScaler\n",
    "from tensorflow.keras import Sequential\n",
    "from tensorflow.keras.layers import Dense\n",
    "from tensorflow.keras.layers import LSTM\n",
    "from tensorflow.keras.layers import Dropout\n",
    "import yfinance as yf"
   ]
  },
  {
   "cell_type": "code",
   "execution_count": 2,
   "id": "019f1a77-8f62-42e8-8751-c0a16360946d",
   "metadata": {
    "colab": {
     "base_uri": "https://localhost:8080/",
     "height": 436
    },
    "id": "019f1a77-8f62-42e8-8751-c0a16360946d",
    "outputId": "b93ec90d-5a19-4c64-fe88-a4a9ad7b8347"
   },
   "outputs": [
    {
     "name": "stdout",
     "output_type": "stream",
     "text": [
      "[*********************100%***********************]  1 of 1 completed\n"
     ]
    },
    {
     "data": {
      "text/html": [
       "<div>\n",
       "<style scoped>\n",
       "    .dataframe tbody tr th:only-of-type {\n",
       "        vertical-align: middle;\n",
       "    }\n",
       "\n",
       "    .dataframe tbody tr th {\n",
       "        vertical-align: top;\n",
       "    }\n",
       "\n",
       "    .dataframe thead th {\n",
       "        text-align: right;\n",
       "    }\n",
       "</style>\n",
       "<table border=\"1\" class=\"dataframe\">\n",
       "  <thead>\n",
       "    <tr style=\"text-align: right;\">\n",
       "      <th></th>\n",
       "      <th>Date</th>\n",
       "      <th>Open</th>\n",
       "      <th>High</th>\n",
       "      <th>Low</th>\n",
       "      <th>Close</th>\n",
       "      <th>Adj Close</th>\n",
       "      <th>Volume</th>\n",
       "    </tr>\n",
       "  </thead>\n",
       "  <tbody>\n",
       "    <tr>\n",
       "      <th>0</th>\n",
       "      <td>1999-12-31</td>\n",
       "      <td>0.901228</td>\n",
       "      <td>0.918527</td>\n",
       "      <td>0.888393</td>\n",
       "      <td>0.917969</td>\n",
       "      <td>0.789364</td>\n",
       "      <td>163811200</td>\n",
       "    </tr>\n",
       "    <tr>\n",
       "      <th>1</th>\n",
       "      <td>2000-01-03</td>\n",
       "      <td>0.936384</td>\n",
       "      <td>1.004464</td>\n",
       "      <td>0.907924</td>\n",
       "      <td>0.999442</td>\n",
       "      <td>0.859423</td>\n",
       "      <td>535796800</td>\n",
       "    </tr>\n",
       "    <tr>\n",
       "      <th>2</th>\n",
       "      <td>2000-01-04</td>\n",
       "      <td>0.966518</td>\n",
       "      <td>0.987723</td>\n",
       "      <td>0.903460</td>\n",
       "      <td>0.915179</td>\n",
       "      <td>0.786965</td>\n",
       "      <td>512377600</td>\n",
       "    </tr>\n",
       "    <tr>\n",
       "      <th>3</th>\n",
       "      <td>2000-01-05</td>\n",
       "      <td>0.926339</td>\n",
       "      <td>0.987165</td>\n",
       "      <td>0.919643</td>\n",
       "      <td>0.928571</td>\n",
       "      <td>0.798481</td>\n",
       "      <td>778321600</td>\n",
       "    </tr>\n",
       "    <tr>\n",
       "      <th>4</th>\n",
       "      <td>2000-01-06</td>\n",
       "      <td>0.947545</td>\n",
       "      <td>0.955357</td>\n",
       "      <td>0.848214</td>\n",
       "      <td>0.848214</td>\n",
       "      <td>0.729382</td>\n",
       "      <td>767972800</td>\n",
       "    </tr>\n",
       "    <tr>\n",
       "      <th>...</th>\n",
       "      <td>...</td>\n",
       "      <td>...</td>\n",
       "      <td>...</td>\n",
       "      <td>...</td>\n",
       "      <td>...</td>\n",
       "      <td>...</td>\n",
       "      <td>...</td>\n",
       "    </tr>\n",
       "    <tr>\n",
       "      <th>5027</th>\n",
       "      <td>2019-12-24</td>\n",
       "      <td>71.172501</td>\n",
       "      <td>71.222504</td>\n",
       "      <td>70.730003</td>\n",
       "      <td>71.067497</td>\n",
       "      <td>70.234581</td>\n",
       "      <td>48478800</td>\n",
       "    </tr>\n",
       "    <tr>\n",
       "      <th>5028</th>\n",
       "      <td>2019-12-26</td>\n",
       "      <td>71.205002</td>\n",
       "      <td>72.495003</td>\n",
       "      <td>71.175003</td>\n",
       "      <td>72.477501</td>\n",
       "      <td>71.628067</td>\n",
       "      <td>93121200</td>\n",
       "    </tr>\n",
       "    <tr>\n",
       "      <th>5029</th>\n",
       "      <td>2019-12-27</td>\n",
       "      <td>72.779999</td>\n",
       "      <td>73.492500</td>\n",
       "      <td>72.029999</td>\n",
       "      <td>72.449997</td>\n",
       "      <td>71.600876</td>\n",
       "      <td>146266000</td>\n",
       "    </tr>\n",
       "    <tr>\n",
       "      <th>5030</th>\n",
       "      <td>2019-12-30</td>\n",
       "      <td>72.364998</td>\n",
       "      <td>73.172501</td>\n",
       "      <td>71.305000</td>\n",
       "      <td>72.879997</td>\n",
       "      <td>72.025833</td>\n",
       "      <td>144114400</td>\n",
       "    </tr>\n",
       "    <tr>\n",
       "      <th>5031</th>\n",
       "      <td>2019-12-31</td>\n",
       "      <td>72.482498</td>\n",
       "      <td>73.419998</td>\n",
       "      <td>72.379997</td>\n",
       "      <td>73.412498</td>\n",
       "      <td>72.552094</td>\n",
       "      <td>100805600</td>\n",
       "    </tr>\n",
       "  </tbody>\n",
       "</table>\n",
       "<p>5032 rows × 7 columns</p>\n",
       "</div>"
      ],
      "text/plain": [
       "           Date       Open       High        Low      Close  Adj Close  \\\n",
       "0    1999-12-31   0.901228   0.918527   0.888393   0.917969   0.789364   \n",
       "1    2000-01-03   0.936384   1.004464   0.907924   0.999442   0.859423   \n",
       "2    2000-01-04   0.966518   0.987723   0.903460   0.915179   0.786965   \n",
       "3    2000-01-05   0.926339   0.987165   0.919643   0.928571   0.798481   \n",
       "4    2000-01-06   0.947545   0.955357   0.848214   0.848214   0.729382   \n",
       "...         ...        ...        ...        ...        ...        ...   \n",
       "5027 2019-12-24  71.172501  71.222504  70.730003  71.067497  70.234581   \n",
       "5028 2019-12-26  71.205002  72.495003  71.175003  72.477501  71.628067   \n",
       "5029 2019-12-27  72.779999  73.492500  72.029999  72.449997  71.600876   \n",
       "5030 2019-12-30  72.364998  73.172501  71.305000  72.879997  72.025833   \n",
       "5031 2019-12-31  72.482498  73.419998  72.379997  73.412498  72.552094   \n",
       "\n",
       "         Volume  \n",
       "0     163811200  \n",
       "1     535796800  \n",
       "2     512377600  \n",
       "3     778321600  \n",
       "4     767972800  \n",
       "...         ...  \n",
       "5027   48478800  \n",
       "5028   93121200  \n",
       "5029  146266000  \n",
       "5030  144114400  \n",
       "5031  100805600  \n",
       "\n",
       "[5032 rows x 7 columns]"
      ]
     },
     "execution_count": 2,
     "metadata": {},
     "output_type": "execute_result"
    }
   ],
   "source": [
    "# Load data\n",
    "data = yf.download(\"AAPL\", start=\"2000-01-01\", end=\"2020-01-01\")\n",
    "data.reset_index(inplace=True)\n",
    "data\n",
    "\n",
    "#data = pd.read_csv(\"FB.csv\")\n",
    "#data"
   ]
  },
  {
   "cell_type": "code",
   "execution_count": 3,
   "id": "34fb5e93-e391-4bba-a3a7-2f99e9b3b00f",
   "metadata": {
    "id": "34fb5e93-e391-4bba-a3a7-2f99e9b3b00f"
   },
   "outputs": [
    {
     "name": "stdout",
     "output_type": "stream",
     "text": [
      "(4972, 60, 2)\n",
      "(4972,)\n",
      "0.9999999999999999\n"
     ]
    }
   ],
   "source": [
    "# Prepare data\n",
    "scaler = MinMaxScaler(feature_range=(0,1))\n",
    "# scaled_data = scaler.fit_transform(data['Close'].values).reshape(-1,1))\n",
    "scaled_data = scaler.fit_transform(data[['Close', 'Adj Close']].values) # lấy 2 cột, khi lấy nhiều cột thì đặt toàn bộ tên các cột vào 1 list và cũng không cần reshape\n",
    "\n",
    "prediction_days = 60\n",
    "\n",
    "x_train = []\n",
    "y_train = []\n",
    "for i in range(prediction_days, len(scaled_data)):\n",
    "    # x_train.append(scaled_data[i - prediction_days:i, 0])\n",
    "    # y_train.append(scaled_data[i, 0])\n",
    "\n",
    "    x_train.append(scaled_data[i - prediction_days:i, :]) # dấu : thứ 2 nghĩa là lấy hết các cột\n",
    "    y_train.append(scaled_data[i, 0]) # số 0 nghĩa là chỉ xài cột đầu (cái 'Close') để làm y\n",
    "    \n",
    "x_train, y_train = np.array(x_train), np.array(y_train)\n",
    "# x_train = np.reshape(x_train, (x_train.shape[0], x_train.shape[1], 1)) # đây cũng không cần reshape\n",
    "print(x_train.shape)\n",
    "print(y_train.shape)\n",
    "\n",
    "print(y_train.max())\n",
    "# shape của x (4971, 60, 2) nghĩa là mình có 4971 phần tử x, mỗi x là một vector có độ lớn 60, số 2 nghĩa là mình dùng 2 cột\n",
    "# shape của y (4971,) nghĩa là mình có 4971 phần tử y, mỗi y là một con số"
   ]
  },
  {
   "cell_type": "code",
   "execution_count": 4,
   "id": "b6a684b3-516a-49a8-9117-d02c91283bcd",
   "metadata": {
    "colab": {
     "base_uri": "https://localhost:8080/"
    },
    "id": "b6a684b3-516a-49a8-9117-d02c91283bcd",
    "outputId": "b136fd75-1e90-4261-d42b-7aeb949a22a6"
   },
   "outputs": [
    {
     "name": "stderr",
     "output_type": "stream",
     "text": [
      "2021-07-10 17:17:08.372822: I tensorflow/core/platform/cpu_feature_guard.cc:142] This TensorFlow binary is optimized with oneAPI Deep Neural Network Library (oneDNN) to use the following CPU instructions in performance-critical operations:  AVX2 FMA\n",
      "To enable them in other operations, rebuild TensorFlow with the appropriate compiler flags.\n",
      "2021-07-10 17:17:09.462815: I tensorflow/compiler/mlir/mlir_graph_optimization_pass.cc:176] None of the MLIR Optimization Passes are enabled (registered 2)\n"
     ]
    },
    {
     "name": "stdout",
     "output_type": "stream",
     "text": [
      "Epoch 1/25\n",
      "156/156 [==============================] - 21s 100ms/step - loss: 0.0024\n",
      "Epoch 2/25\n",
      "156/156 [==============================] - 15s 98ms/step - loss: 0.0012\n",
      "Epoch 3/25\n",
      "156/156 [==============================] - 17s 110ms/step - loss: 9.5698e-04\n",
      "Epoch 4/25\n",
      "156/156 [==============================] - 16s 100ms/step - loss: 8.5694e-04\n",
      "Epoch 5/25\n",
      "156/156 [==============================] - 16s 100ms/step - loss: 8.3170e-04\n",
      "Epoch 6/25\n",
      "156/156 [==============================] - 15s 99ms/step - loss: 7.8657e-04\n",
      "Epoch 7/25\n",
      "156/156 [==============================] - 16s 100ms/step - loss: 8.0761e-04\n",
      "Epoch 8/25\n",
      "156/156 [==============================] - 16s 101ms/step - loss: 5.8702e-04\n",
      "Epoch 9/25\n",
      "156/156 [==============================] - 21s 134ms/step - loss: 5.9161e-04\n",
      "Epoch 10/25\n",
      "156/156 [==============================] - 15s 97ms/step - loss: 6.2967e-04\n",
      "Epoch 11/25\n",
      "156/156 [==============================] - 16s 100ms/step - loss: 5.8397e-04\n",
      "Epoch 12/25\n",
      "156/156 [==============================] - 15s 98ms/step - loss: 5.5413e-04\n",
      "Epoch 13/25\n",
      "156/156 [==============================] - 16s 103ms/step - loss: 5.3489e-04\n",
      "Epoch 14/25\n",
      "156/156 [==============================] - 16s 104ms/step - loss: 5.6506e-04\n",
      "Epoch 15/25\n",
      "156/156 [==============================] - 17s 107ms/step - loss: 5.0485e-04\n",
      "Epoch 16/25\n",
      "156/156 [==============================] - 16s 106ms/step - loss: 5.8498e-04\n",
      "Epoch 17/25\n",
      "156/156 [==============================] - 16s 101ms/step - loss: 5.0829e-042s - loss: 4. - ETA: 1\n",
      "Epoch 18/25\n",
      "156/156 [==============================] - 17s 107ms/step - loss: 4.8953e-04\n",
      "Epoch 19/25\n",
      "156/156 [==============================] - 19s 121ms/step - loss: 5.4573e-04\n",
      "Epoch 20/25\n",
      "156/156 [==============================] - 16s 105ms/step - loss: 4.5672e-04\n",
      "Epoch 21/25\n",
      "156/156 [==============================] - 17s 109ms/step - loss: 5.7480e-040s - loss: 5.7480e-0\n",
      "Epoch 22/25\n",
      "156/156 [==============================] - 16s 104ms/step - loss: 5.0321e-04\n",
      "Epoch 23/25\n",
      "156/156 [==============================] - 17s 107ms/step - loss: 5.7991e-04\n",
      "Epoch 24/25\n",
      "156/156 [==============================] - 16s 104ms/step - loss: 4.6401e-04\n",
      "Epoch 25/25\n",
      "156/156 [==============================] - 17s 106ms/step - loss: 4.6090e-04\n"
     ]
    },
    {
     "data": {
      "text/plain": [
       "<tensorflow.python.keras.callbacks.History at 0x1555896d0>"
      ]
     },
     "execution_count": 4,
     "metadata": {},
     "output_type": "execute_result"
    }
   ],
   "source": [
    "# Build model\n",
    "model = Sequential()\n",
    "\n",
    "# model.add(LSTM(units=50, return_sequences=True, input_shape=(x_train.shape[1],1)))\n",
    "model.add(LSTM(units=50, return_sequences=True, input_shape=(x_train.shape[1], 2))) # chỗ này sửa input_shape thành (x_train.shape[1], 2) vì mình dùng 2 cột\n",
    "model.add(Dropout(0.2))\n",
    "model.add(LSTM(units=50, return_sequences=True))\n",
    "model.add(Dropout(0.2))\n",
    "model.add(LSTM(units=50))\n",
    "model.add(Dropout(0.2))\n",
    "model.add(Dense(units=1))\n",
    "\n",
    "model.compile(optimizer='adam', loss='mean_squared_error')\n",
    "model.fit(x_train, y_train, epochs=25, batch_size=32)\n",
    "\n",
    "#model.save('RNN_Model.h5')"
   ]
  },
  {
   "cell_type": "code",
   "execution_count": 5,
   "id": "6b7bd147-8f04-4e44-886a-7bdb6228c897",
   "metadata": {
    "colab": {
     "base_uri": "https://localhost:8080/",
     "height": 437
    },
    "id": "6b7bd147-8f04-4e44-886a-7bdb6228c897",
    "outputId": "9de1d5c6-e866-44d2-c26c-849af576f040"
   },
   "outputs": [
    {
     "name": "stdout",
     "output_type": "stream",
     "text": [
      "[*********************100%***********************]  1 of 1 completed\n"
     ]
    },
    {
     "data": {
      "text/html": [
       "<div>\n",
       "<style scoped>\n",
       "    .dataframe tbody tr th:only-of-type {\n",
       "        vertical-align: middle;\n",
       "    }\n",
       "\n",
       "    .dataframe tbody tr th {\n",
       "        vertical-align: top;\n",
       "    }\n",
       "\n",
       "    .dataframe thead th {\n",
       "        text-align: right;\n",
       "    }\n",
       "</style>\n",
       "<table border=\"1\" class=\"dataframe\">\n",
       "  <thead>\n",
       "    <tr style=\"text-align: right;\">\n",
       "      <th></th>\n",
       "      <th>Date</th>\n",
       "      <th>Open</th>\n",
       "      <th>High</th>\n",
       "      <th>Low</th>\n",
       "      <th>Close</th>\n",
       "      <th>Adj Close</th>\n",
       "      <th>Volume</th>\n",
       "    </tr>\n",
       "  </thead>\n",
       "  <tbody>\n",
       "    <tr>\n",
       "      <th>0</th>\n",
       "      <td>2019-12-31</td>\n",
       "      <td>72.482498</td>\n",
       "      <td>73.419998</td>\n",
       "      <td>72.379997</td>\n",
       "      <td>73.412498</td>\n",
       "      <td>72.552094</td>\n",
       "      <td>100805600</td>\n",
       "    </tr>\n",
       "    <tr>\n",
       "      <th>1</th>\n",
       "      <td>2020-01-02</td>\n",
       "      <td>74.059998</td>\n",
       "      <td>75.150002</td>\n",
       "      <td>73.797501</td>\n",
       "      <td>75.087502</td>\n",
       "      <td>74.207466</td>\n",
       "      <td>135480400</td>\n",
       "    </tr>\n",
       "    <tr>\n",
       "      <th>2</th>\n",
       "      <td>2020-01-03</td>\n",
       "      <td>74.287498</td>\n",
       "      <td>75.144997</td>\n",
       "      <td>74.125000</td>\n",
       "      <td>74.357498</td>\n",
       "      <td>73.486023</td>\n",
       "      <td>146322800</td>\n",
       "    </tr>\n",
       "    <tr>\n",
       "      <th>3</th>\n",
       "      <td>2020-01-06</td>\n",
       "      <td>73.447502</td>\n",
       "      <td>74.989998</td>\n",
       "      <td>73.187500</td>\n",
       "      <td>74.949997</td>\n",
       "      <td>74.071579</td>\n",
       "      <td>118387200</td>\n",
       "    </tr>\n",
       "    <tr>\n",
       "      <th>4</th>\n",
       "      <td>2020-01-07</td>\n",
       "      <td>74.959999</td>\n",
       "      <td>75.224998</td>\n",
       "      <td>74.370003</td>\n",
       "      <td>74.597504</td>\n",
       "      <td>73.723213</td>\n",
       "      <td>108872000</td>\n",
       "    </tr>\n",
       "    <tr>\n",
       "      <th>...</th>\n",
       "      <td>...</td>\n",
       "      <td>...</td>\n",
       "      <td>...</td>\n",
       "      <td>...</td>\n",
       "      <td>...</td>\n",
       "      <td>...</td>\n",
       "      <td>...</td>\n",
       "    </tr>\n",
       "    <tr>\n",
       "      <th>379</th>\n",
       "      <td>2021-07-02</td>\n",
       "      <td>137.899994</td>\n",
       "      <td>140.000000</td>\n",
       "      <td>137.750000</td>\n",
       "      <td>139.960007</td>\n",
       "      <td>139.960007</td>\n",
       "      <td>78852600</td>\n",
       "    </tr>\n",
       "    <tr>\n",
       "      <th>380</th>\n",
       "      <td>2021-07-06</td>\n",
       "      <td>140.070007</td>\n",
       "      <td>143.149994</td>\n",
       "      <td>140.070007</td>\n",
       "      <td>142.020004</td>\n",
       "      <td>142.020004</td>\n",
       "      <td>108181800</td>\n",
       "    </tr>\n",
       "    <tr>\n",
       "      <th>381</th>\n",
       "      <td>2021-07-07</td>\n",
       "      <td>143.539993</td>\n",
       "      <td>144.889999</td>\n",
       "      <td>142.660004</td>\n",
       "      <td>144.570007</td>\n",
       "      <td>144.570007</td>\n",
       "      <td>104911600</td>\n",
       "    </tr>\n",
       "    <tr>\n",
       "      <th>382</th>\n",
       "      <td>2021-07-08</td>\n",
       "      <td>141.580002</td>\n",
       "      <td>144.059998</td>\n",
       "      <td>140.669998</td>\n",
       "      <td>143.240005</td>\n",
       "      <td>143.240005</td>\n",
       "      <td>105575500</td>\n",
       "    </tr>\n",
       "    <tr>\n",
       "      <th>383</th>\n",
       "      <td>2021-07-09</td>\n",
       "      <td>142.750000</td>\n",
       "      <td>145.649994</td>\n",
       "      <td>142.649994</td>\n",
       "      <td>145.110001</td>\n",
       "      <td>145.110001</td>\n",
       "      <td>99788400</td>\n",
       "    </tr>\n",
       "  </tbody>\n",
       "</table>\n",
       "<p>384 rows × 7 columns</p>\n",
       "</div>"
      ],
      "text/plain": [
       "          Date        Open        High         Low       Close   Adj Close  \\\n",
       "0   2019-12-31   72.482498   73.419998   72.379997   73.412498   72.552094   \n",
       "1   2020-01-02   74.059998   75.150002   73.797501   75.087502   74.207466   \n",
       "2   2020-01-03   74.287498   75.144997   74.125000   74.357498   73.486023   \n",
       "3   2020-01-06   73.447502   74.989998   73.187500   74.949997   74.071579   \n",
       "4   2020-01-07   74.959999   75.224998   74.370003   74.597504   73.723213   \n",
       "..         ...         ...         ...         ...         ...         ...   \n",
       "379 2021-07-02  137.899994  140.000000  137.750000  139.960007  139.960007   \n",
       "380 2021-07-06  140.070007  143.149994  140.070007  142.020004  142.020004   \n",
       "381 2021-07-07  143.539993  144.889999  142.660004  144.570007  144.570007   \n",
       "382 2021-07-08  141.580002  144.059998  140.669998  143.240005  143.240005   \n",
       "383 2021-07-09  142.750000  145.649994  142.649994  145.110001  145.110001   \n",
       "\n",
       "        Volume  \n",
       "0    100805600  \n",
       "1    135480400  \n",
       "2    146322800  \n",
       "3    118387200  \n",
       "4    108872000  \n",
       "..         ...  \n",
       "379   78852600  \n",
       "380  108181800  \n",
       "381  104911600  \n",
       "382  105575500  \n",
       "383   99788400  \n",
       "\n",
       "[384 rows x 7 columns]"
      ]
     },
     "execution_count": 5,
     "metadata": {},
     "output_type": "execute_result"
    }
   ],
   "source": [
    "# Test the model accuracy on existing data\n",
    "# Load test data\n",
    "test_start = \"2020-01-01\"\n",
    "test_end = \"2021-08-07\" # now\n",
    "test_data = yf.download(\"AAPL\", start=test_start, end=test_end)\n",
    "test_data.reset_index(inplace=True)\n",
    "test_data\n",
    "#test_data = pd.read_csv('FB-2.csv')\n",
    "#test_data"
   ]
  },
  {
   "cell_type": "code",
   "execution_count": 6,
   "id": "db916ac9-69eb-4517-92b7-5a51840d5862",
   "metadata": {
    "id": "db916ac9-69eb-4517-92b7-5a51840d5862"
   },
   "outputs": [],
   "source": [
    "actual_prices = test_data['Close'].values\n",
    "# total_dataset = pd.concat((data['Close'], test_data['Close']), axis=0)\n",
    "total_dataset = pd.concat((data[['Close', 'Adj Close']], test_data[['Close', 'Adj Close']]), axis=0)\n",
    "\n",
    "model_inputs = total_dataset[len(total_dataset) - len(test_data) - prediction_days:].values\n",
    "# model_inputs = model_inputs.reshape(-1,1)\n",
    "model_inputs = scaler.transform(model_inputs)\n",
    "# model_inputs.shape"
   ]
  },
  {
   "cell_type": "code",
   "execution_count": 7,
   "id": "58cc0aa1-b208-422b-9fbc-39d600b4a196",
   "metadata": {
    "colab": {
     "base_uri": "https://localhost:8080/"
    },
    "id": "58cc0aa1-b208-422b-9fbc-39d600b4a196",
    "outputId": "ecee9c05-9378-4fdf-96ee-70ff13cbdbce"
   },
   "outputs": [
    {
     "name": "stdout",
     "output_type": "stream",
     "text": [
      "(384, 1)\n"
     ]
    }
   ],
   "source": [
    "# Make predictions on test data\n",
    "x_test = []\n",
    "\n",
    "for i in range(prediction_days, len(model_inputs)):\n",
    "    x_test.append(model_inputs[i - prediction_days:i, :])\n",
    "    \n",
    "x_test = np.array(x_test)\n",
    "# x_test = np.reshape(x_test, (x_test.shape[0], x_test.shape[1], 1))\n",
    "\n",
    "predicted_prices = model.predict(x_test)\n",
    "print(predicted_prices.shape)\n",
    "\n",
    "# chỗ này tại vì cái scaler được fit cho 2 cột, mà prediction chỉ có 1 cột nên tile nó để inverse_transform\n",
    "# sau đó bỏ bớt 1 cái đi\n",
    "predicted_prices = scaler.inverse_transform(np.tile(predicted_prices, (1, 2)))[:, 0]\n",
    "# print(predicted_prices.shape)"
   ]
  },
  {
   "cell_type": "code",
   "execution_count": 8,
   "id": "034917ab-75bb-4345-b7b3-a2f628deea2d",
   "metadata": {
    "colab": {
     "base_uri": "https://localhost:8080/",
     "height": 295
    },
    "id": "034917ab-75bb-4345-b7b3-a2f628deea2d",
    "outputId": "07640620-37ad-4c24-b45f-bfbca7f48afb"
   },
   "outputs": [
    {
     "data": {
      "image/png": "[encoded data removed]",
      "text/plain": [
       "<Figure size 432x288 with 1 Axes>"
      ]
     },
     "metadata": {
      "needs_background": "light"
     },
     "output_type": "display_data"
    }
   ],
   "source": [
    "# Plot the test predictions\n",
    "plt.plot(actual_prices, color='black',label='Actual prices')\n",
    "plt.plot(predicted_prices, color='green', label='Predicted prices')\n",
    "plt.title('Title')\n",
    "plt.xlabel('Time')\n",
    "plt.ylabel('Share Price')\n",
    "plt.legend()\n",
    "plt.show()"
   ]
  },
  {
   "cell_type": "code",
   "execution_count": 9,
   "id": "a6b6d427-f8fd-4e5d-9f99-261367b1d90d",
   "metadata": {
    "colab": {
     "base_uri": "https://localhost:8080/"
    },
    "id": "a6b6d427-f8fd-4e5d-9f99-261367b1d90d",
    "outputId": "30152bdd-c380-4eab-c6c1-d6dcf7e83062"
   },
   "outputs": [
    {
     "name": "stdout",
     "output_type": "stream",
     "text": [
      "WARNING:tensorflow:Model was constructed with shape (None, 60, 2) for input KerasTensor(type_spec=TensorSpec(shape=(None, 60, 2), dtype=tf.float32, name='lstm_input'), name='lstm_input', description=\"created by layer 'lstm_input'\"), but it was called on an input with incompatible shape (None, 59, 2).\n",
      "Prediction: \n",
      "[132.96877]\n"
     ]
    }
   ],
   "source": [
    "# Predict next day\n",
    "real_data = [model_inputs[len(model_inputs) + 1 - prediction_days:len(model_inputs+1), :]]\n",
    "real_data = np.array(real_data)\n",
    "# real_data = np.reshape(real_data, (real_data.shape[0], real_data.shape[1], 1))\n",
    "\n",
    "prediction = model.predict(real_data)\n",
    "prediction = scaler.inverse_transform(np.tile(prediction, (1, 2)))[:, 0]\n",
    "print(\"Prediction: \")\n",
    "print(prediction)"
   ]
  },
  {
   "cell_type": "code",
   "execution_count": null,
   "id": "8984f44b-5b29-47bb-aa60-1861c2db16bb",
   "metadata": {
    "id": "8984f44b-5b29-47bb-aa60-1861c2db16bb"
   },
   "outputs": [],
   "source": []
  }
 ],
 "metadata": {
  "colab": {
   "collapsed_sections": [],
   "name": "RNNModelTest3.ipynb",
   "provenance": []
  },
  "kernelspec": {
   "display_name": "Python 3 (ipykernel)",
   "language": "python",
   "name": "python3"
  },
  "language_info": {
   "codemirror_mode": {
    "name": "ipython",
    "version": 3
   },
   "file_extension": ".py",
   "mimetype": "text/x-python",
   "name": "python",
   "nbconvert_exporter": "python",
   "pygments_lexer": "ipython3",
   "version": "3.8.2"
  }
 },
 "nbformat": 4,
 "nbformat_minor": 5
}
